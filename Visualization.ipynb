{
 "cells": [
  {
   "cell_type": "markdown",
   "metadata": {},
   "source": [
    "PLOTTING DATASET"
   ]
  },
  {
   "cell_type": "markdown",
   "metadata": {},
   "source": [
    "Declaration packages and libraries."
   ]
  },
  {
   "cell_type": "code",
   "execution_count": null,
   "metadata": {},
   "outputs": [],
   "source": [
    "import pandas as pd\n",
    "import datetime as dt\n",
    "import plotly.express as px"
   ]
  },
  {
   "cell_type": "code",
   "execution_count": null,
   "metadata": {},
   "outputs": [],
   "source": [
    "plot_data = pd.read_csv(\"Tidy_Covid_Data.csv\")\n",
    "plot_data=plot_data.drop(['Unnamed: 0'], axis=1)"
   ]
  },
  {
   "attachments": {},
   "cell_type": "markdown",
   "metadata": {},
   "source": [
    "            Plot One: Visualization of Death Trends Per Day."
   ]
  },
  {
   "attachments": {},
   "cell_type": "markdown",
   "metadata": {},
   "source": [
    "Copy the data  to be plotted."
   ]
  },
  {
   "cell_type": "code",
   "execution_count": null,
   "metadata": {},
   "outputs": [],
   "source": [
    "death_df= plot_data[['Date','DeathsToday']].copy()"
   ]
  },
  {
   "attachments": {},
   "cell_type": "markdown",
   "metadata": {},
   "source": [
    "Plot the data as line(Time series data)."
   ]
  },
  {
   "cell_type": "code",
   "execution_count": null,
   "metadata": {},
   "outputs": [],
   "source": [
    "fig = px.line(death_df, x = 'Date', y = 'DeathsToday', \n",
    "               labels={\n",
    "                     \"Date\": \"Date of Occurence\",\n",
    "                     \"DeathsToday\": \"Number of Deaths Occured Per Day\",\n",
    "                     \"variable\": \"Situation\"\n",
    "                 }\n",
    "               )\n",
    "fig.update_layout(\n",
    "    title='Death Trends Per Day (From March 3, 2020 - November 21, 2022'\n",
    ")\n",
    "fig.show()"
   ]
  },
  {
   "attachments": {},
   "cell_type": "markdown",
   "metadata": {},
   "source": [
    "            Plot Two: Visualizing The Total Covid Infection Case By Age Range."
   ]
  },
  {
   "attachments": {},
   "cell_type": "markdown",
   "metadata": {},
   "source": [
    "Copy the dataframe plot_data for data manipulation of the chart."
   ]
  },
  {
   "cell_type": "code",
   "execution_count": null,
   "metadata": {},
   "outputs": [],
   "source": [
    "age_data=plot_data.copy()"
   ]
  },
  {
   "attachments": {},
   "cell_type": "markdown",
   "metadata": {},
   "source": [
    "Get the maximum values of covid infection cases per each age range."
   ]
  },
  {
   "cell_type": "code",
   "execution_count": null,
   "metadata": {},
   "outputs": [],
   "source": [
    "byAge = age_data.groupby('AgeRange')['NumberInfected'].max()"
   ]
  },
  {
   "attachments": {},
   "cell_type": "markdown",
   "metadata": {},
   "source": [
    "Create a dataframe from the result of the series 'byAge' data."
   ]
  },
  {
   "cell_type": "code",
   "execution_count": null,
   "metadata": {},
   "outputs": [],
   "source": [
    "age_df=pd.DataFrame({'AgeRange':byAge.index, 'high_value':byAge.values})"
   ]
  },
  {
   "attachments": {},
   "cell_type": "markdown",
   "metadata": {},
   "source": [
    "Plot the data as Bar chart."
   ]
  },
  {
   "cell_type": "code",
   "execution_count": null,
   "metadata": {},
   "outputs": [],
   "source": [
    "fig = px.bar(age_df, x = 'AgeRange', y = 'high_value', \n",
    "             labels={\n",
    "                     \"AgeRange\": \"Patient Age Range\",\n",
    "                     \"high_value\": \"Total Covid Case\",\n",
    "                     \"variable\": \"Situation\"\n",
    "                 },\n",
    "             title='Total Covid Infection Case By Age Range from (March 3, 2022 - November 22, 2022).', \n",
    "             color='AgeRange')\n",
    "fig.show()"
   ]
  },
  {
   "attachments": {},
   "cell_type": "markdown",
   "metadata": {},
   "source": [
    "        Plot Three: Visualizing Confirmed Covid Cases Compared to Hospitalised Cases."
   ]
  },
  {
   "attachments": {},
   "cell_type": "markdown",
   "metadata": {},
   "source": [
    "Copy the dataframe 'plot_data' to manipulate for developing chart."
   ]
  },
  {
   "cell_type": "code",
   "execution_count": null,
   "metadata": {},
   "outputs": [],
   "source": [
    "date_vis= plot_data.copy()"
   ]
  },
  {
   "attachments": {},
   "cell_type": "markdown",
   "metadata": {},
   "source": [
    "Extract the Year and Month from the date column in two different ways for sorting and plotting."
   ]
  },
  {
   "cell_type": "code",
   "execution_count": null,
   "metadata": {},
   "outputs": [],
   "source": [
    "date_vis['YearMonth'] = pd.to_datetime(date_vis['Date']).apply(lambda x: '{year}-{month}'.format(year=x.year, month=x.month))\n",
    "date_vis['MonthYear'] = pd.to_datetime(date_vis['Date']).apply(lambda x: '{year}{month}'.format(year=x.year, month=x.month))"
   ]
  },
  {
   "attachments": {},
   "cell_type": "markdown",
   "metadata": {},
   "source": [
    "Change the new extracted values of the date column to a numeric value for sorting."
   ]
  },
  {
   "cell_type": "code",
   "execution_count": null,
   "metadata": {},
   "outputs": [],
   "source": [
    "date_vis['MonthYear'] = pd.to_numeric(date_vis['MonthYear'])"
   ]
  },
  {
   "attachments": {},
   "cell_type": "markdown",
   "metadata": {},
   "source": [
    "Group the dataframe by the new 'MonthYear' column."
   ]
  },
  {
   "cell_type": "code",
   "execution_count": null,
   "metadata": {},
   "outputs": [],
   "source": [
    "date_res = date_vis.groupby('MonthYear')['YearMonth','ConfirmedCases','NumberHospitalised'].max()\n",
    "date_res_df=pd.DataFrame({'sorter':date_res.index, 'Date':date_res.YearMonth,'CasesConfirmed':date_res.ConfirmedCases, 'hospitalCase':date_res.NumberHospitalised})"
   ]
  },
  {
   "cell_type": "code",
   "execution_count": null,
   "metadata": {},
   "outputs": [],
   "source": [
    "date_res_df = date_res_df.reset_index()\n",
    "date_res_df.sort_values(by=['sorter'], ascending=False)"
   ]
  },
  {
   "attachments": {},
   "cell_type": "markdown",
   "metadata": {},
   "source": [
    "Rename the columns to be readable."
   ]
  },
  {
   "cell_type": "code",
   "execution_count": null,
   "metadata": {},
   "outputs": [],
   "source": [
    "date_res_df.rename(columns={'CasesConfirmed':'Confirmed Covid Cases','hospitalCase':'Hospitalized Cases'}, inplace=True)"
   ]
  },
  {
   "attachments": {},
   "cell_type": "markdown",
   "metadata": {},
   "source": [
    "Plot the data as double bar chart."
   ]
  },
  {
   "cell_type": "code",
   "execution_count": null,
   "metadata": {},
   "outputs": [],
   "source": [
    "fig = px.bar(date_res_df, x = 'Date', y = ['Confirmed Covid Cases','Hospitalized Cases'], \n",
    "             labels={\n",
    "                     \"Date\": \"Month Recorded\",\n",
    "                     \"value\": \"Patient Count\",\n",
    "                     \"variable\": \"Situation\"\n",
    "                 },\n",
    "             title='Confirmed Covid Cases Compared to Hospitalised Cases from March 2, 2020 - November 22, 2022')\n",
    "fig.update_layout(barmode='group')\n",
    "fig.show()"
   ]
  },
  {
   "attachments": {},
   "cell_type": "markdown",
   "metadata": {},
   "source": [
    "            Plot Four: Visualizing a Pie Chart to indicate Percentages By Gender of the total Covid Infection Cases."
   ]
  },
  {
   "attachments": {},
   "cell_type": "markdown",
   "metadata": {},
   "source": [
    "Copy the Dataframe plot_data and manipulate the data as per the chart."
   ]
  },
  {
   "cell_type": "code",
   "execution_count": null,
   "metadata": {},
   "outputs": [],
   "source": [
    "by_gender = plot_data[['NumberInfected','Gender','ConfirmedCases','NumberByGender']].copy()"
   ]
  },
  {
   "cell_type": "code",
   "execution_count": null,
   "metadata": {},
   "outputs": [],
   "source": [
    "gender_df = by_gender.groupby(['Gender'], as_index=False)['NumberByGender'].max()"
   ]
  },
  {
   "attachments": {},
   "cell_type": "markdown",
   "metadata": {},
   "source": [
    "Plot a pie chart showing the percentage total per gender."
   ]
  },
  {
   "cell_type": "code",
   "execution_count": null,
   "metadata": {},
   "outputs": [],
   "source": [
    "fig = px.pie(gender_df, values='NumberByGender', names='Gender', \n",
    "             title=\"Percentage Total Of Infection Based On The Gender\", color='Gender')\n",
    "fig.show()"
   ]
  },
  {
   "attachments": {},
   "cell_type": "markdown",
   "metadata": {},
   "source": [
    "    Plot Five: Visualizing The Trends Of All Patients Who Are Hospitalised and also Identifying These Patients Needs For Intensive Care."
   ]
  },
  {
   "attachments": {},
   "cell_type": "markdown",
   "metadata": {},
   "source": [
    "Copy the dataframe 'plot_data' to manipulate the data."
   ]
  },
  {
   "cell_type": "code",
   "execution_count": null,
   "metadata": {},
   "outputs": [],
   "source": [
    "cases = plot_data[['Date','NumberHospitalised','CasesRequiedICU']].copy()"
   ]
  },
  {
   "attachments": {},
   "cell_type": "markdown",
   "metadata": {},
   "source": [
    "Group the data by date to get the aggregated cases."
   ]
  },
  {
   "cell_type": "code",
   "execution_count": null,
   "metadata": {},
   "outputs": [],
   "source": [
    "by_cases=cases.groupby(['Date'], as_index=False)['NumberHospitalised','CasesRequiedICU'].max()"
   ]
  },
  {
   "attachments": {},
   "cell_type": "markdown",
   "metadata": {},
   "source": [
    "Rename the columns for readable column headings."
   ]
  },
  {
   "cell_type": "code",
   "execution_count": null,
   "metadata": {},
   "outputs": [],
   "source": [
    "by_cases.rename(columns={'Date':'Date of Occurence','NumberHospitalised':'Hospitalised Patient','CasesRequiedICU':'Patient Requiring ICU'}, inplace=True)"
   ]
  },
  {
   "cell_type": "code",
   "execution_count": null,
   "metadata": {},
   "outputs": [],
   "source": [
    "fig = px.scatter(by_cases, x='Date of Occurence', y=['Hospitalised Patient','Patient Requiring ICU'], \n",
    "                 labels={\n",
    "                     \"Date\": \"Date of Occurence\",\n",
    "                     \"value\": \"Patient Count\",\n",
    "                     \"variable\": \"Situation\"\n",
    "                 },\n",
    "                 title='The Trends Of Patients Who Are Hospitalised As Compared To Those Also Required Intensive Care /(ICU)')\n",
    "\n",
    "fig.show()"
   ]
  }
 ],
 "metadata": {
  "kernelspec": {
   "display_name": "Python 3.10.8 64-bit",
   "language": "python",
   "name": "python3"
  },
  "language_info": {
   "codemirror_mode": {
    "name": "ipython",
    "version": 3
   },
   "file_extension": ".py",
   "mimetype": "text/x-python",
   "name": "python",
   "nbconvert_exporter": "python",
   "pygments_lexer": "ipython3",
   "version": "3.10.8"
  },
  "orig_nbformat": 4,
  "vscode": {
   "interpreter": {
    "hash": "5aca27a8b22f23d6e7bd1accaa99cbf11b796e16520f4a040e73077e93c9e259"
   }
  }
 },
 "nbformat": 4,
 "nbformat_minor": 2
}
