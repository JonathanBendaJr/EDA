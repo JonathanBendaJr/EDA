{
 "cells": [
  {
   "cell_type": "markdown",
   "metadata": {},
   "source": [
    "Declaration packages and libraries."
   ]
  },
  {
   "cell_type": "code",
   "execution_count": null,
   "metadata": {},
   "outputs": [],
   "source": [
    "import pandas as pd\n",
    "\n",
    "import datetime as dt\n",
    "\n",
    "from download_data import get_daily_data"
   ]
  },
  {
   "cell_type": "code",
   "execution_count": null,
   "metadata": {},
   "outputs": [],
   "source": [
    "get_daily_data()"
   ]
  },
  {
   "cell_type": "markdown",
   "metadata": {},
   "source": [
    "Import data from CSV file as a dataframe using pandas."
   ]
  },
  {
   "cell_type": "code",
   "execution_count": null,
   "metadata": {},
   "outputs": [],
   "source": [
    "df = pd.read_csv(\"covid_data.csv\")"
   ]
  },
  {
   "cell_type": "markdown",
   "metadata": {},
   "source": [
    "Droping Irrelevant columns that will not be used for plotting and graphing."
   ]
  },
  {
   "cell_type": "code",
   "execution_count": null,
   "metadata": {},
   "outputs": [],
   "source": [
    "df = df.drop(['X', 'Y','Date', 'CovidCasesConfirmed','TotalConfirmedCovidCases', 'DeathsCumulative_DOD','CommunityTransmission', 'CloseContact',\n",
    "       'SevenDayAvg_Cases','ConfirmedCovidDeaths', 'TotalCovidDeaths','ClustersNotified','TravelAbroad', 'FID', 'Median_Age',], axis=1)"
   ]
  },
  {
   "cell_type": "markdown",
   "metadata": {},
   "source": [
    "Copying the current dataframe df to a new_data dataframe for manipulation. "
   ]
  },
  {
   "cell_type": "code",
   "execution_count": null,
   "metadata": {},
   "outputs": [],
   "source": [
    "new_data = df.copy()"
   ]
  },
  {
   "cell_type": "code",
   "execution_count": null,
   "metadata": {},
   "outputs": [],
   "source": [
    "new_data['StatisticsProfileDate'] = pd.to_datetime(new_data['StatisticsProfileDate']).dt.date\n",
    "new_data['StatisticsProfileDate'] = pd.to_datetime(new_data['StatisticsProfileDate'])"
   ]
  },
  {
   "cell_type": "markdown",
   "metadata": {},
   "source": [
    "            TIDYING THE DATAFRAME (new_data)"
   ]
  },
  {
   "cell_type": "markdown",
   "metadata": {},
   "source": [
    "Melting the data to arrange the column male, female, and unknown which are data instead of column header."
   ]
  },
  {
   "cell_type": "code",
   "execution_count": null,
   "metadata": {},
   "outputs": [],
   "source": [
    "melt_gender = pd.melt(new_data, \n",
    "                           ['StatisticsProfileDate', 'ConfirmedCovidCases',\n",
    "       'HospitalisedCovidCases', 'RequiringICUCovidCases',\n",
    "       'HealthcareWorkersCovidCases', 'HospitalisedAged5',\n",
    "       'HospitalisedAged5to14', 'HospitalisedAged15to24',\n",
    "       'HospitalisedAged25to34', 'HospitalisedAged35to44',\n",
    "       'HospitalisedAged45to54', 'HospitalisedAged55to64','Aged1to4', 'Aged5to14', 'Aged15to24', 'Aged25to34',\n",
    "       'Aged35to44', 'Aged45to54', 'Aged55to64', 'HospitalisedAged65to74',\n",
    "       'HospitalisedAged75to84', 'HospitalisedAged85up', 'Aged65to74',\n",
    "       'Aged75to84', 'Aged85up', 'DeathsToday_DOD'],\n",
    "                           var_name=\"gender\",\n",
    "                           value_name=\"no_infected_gender\")\n",
    "melt_gender"
   ]
  },
  {
   "cell_type": "code",
   "execution_count": null,
   "metadata": {},
   "outputs": [],
   "source": [
    "melt_gender = melt_gender.sort_values(ascending=True,by=[\"StatisticsProfileDate\"])\n",
    "melt_gender"
   ]
  },
  {
   "cell_type": "markdown",
   "metadata": {},
   "source": [
    "With the new dataframe generated from the melting of gender, we use this to melt the columns made of Hospitalised by Age data. "
   ]
  },
  {
   "cell_type": "code",
   "execution_count": null,
   "metadata": {},
   "outputs": [],
   "source": [
    "melt_hospitalised = pd.melt(melt_gender, \n",
    "                           ['StatisticsProfileDate', 'ConfirmedCovidCases',\n",
    "       'HospitalisedCovidCases', 'RequiringICUCovidCases',\n",
    "       'HealthcareWorkersCovidCases','Aged1to4',\n",
    "       'Aged5to14', 'Aged15to24', 'Aged25to34', 'Aged35to44', 'Aged45to54',\n",
    "       'Aged55to64', 'Aged65to74', 'Aged75to84', 'Aged85up',\n",
    "       'DeathsToday_DOD', 'gender', 'no_infected_gender'],\n",
    "                           var_name=\"Hospitalised\",\n",
    "                           value_name=\"no_hospitalised\")\n",
    "melt_hospitalised"
   ]
  },
  {
   "cell_type": "code",
   "execution_count": null,
   "metadata": {},
   "outputs": [],
   "source": [
    "melt_hospitalised = melt_hospitalised.sort_values(ascending=True,by=[\"StatisticsProfileDate\"])\n",
    "melt_hospitalised"
   ]
  },
  {
   "cell_type": "markdown",
   "metadata": {},
   "source": [
    "Now, also another new dataframe is generated from the melting of columns containing hospitalised data. we will used this to melt the data containing Infection by Age."
   ]
  },
  {
   "cell_type": "code",
   "execution_count": null,
   "metadata": {},
   "outputs": [],
   "source": [
    "melt_infected = pd.melt(melt_hospitalised, \n",
    "                           ['StatisticsProfileDate', 'ConfirmedCovidCases',\n",
    "       'HospitalisedCovidCases', 'RequiringICUCovidCases',\n",
    "       'HealthcareWorkersCovidCases', 'DeathsToday_DOD', 'gender',\n",
    "       'no_infected_gender', 'Hospitalised', 'no_hospitalised'],\n",
    "                           var_name=\"Infected\",\n",
    "                           value_name=\"no_infected\")\n",
    "melt_infected"
   ]
  },
  {
   "cell_type": "code",
   "execution_count": null,
   "metadata": {},
   "outputs": [],
   "source": [
    "melt_infected = melt_infected.sort_values(ascending=True,by=[\"StatisticsProfileDate\"])\n",
    "melt_infected"
   ]
  },
  {
   "cell_type": "markdown",
   "metadata": {},
   "source": [
    "Copying the melted data to a new dataframe."
   ]
  },
  {
   "cell_type": "code",
   "execution_count": null,
   "metadata": {},
   "outputs": [],
   "source": [
    "melted_data = melt_infected.copy()\n",
    "melted_data"
   ]
  },
  {
   "cell_type": "markdown",
   "metadata": {},
   "source": [
    "            Cleaning the melted_data dataframe to make the observations/rows readble, clear and concise."
   ]
  },
  {
   "cell_type": "markdown",
   "metadata": {},
   "source": [
    "Drop the Hospitalised Column, drop NaN data,rename the Columns and clean data"
   ]
  },
  {
   "cell_type": "code",
   "execution_count": null,
   "metadata": {},
   "outputs": [],
   "source": [
    "melted_data = melted_data.drop(['Hospitalised'], axis=1)\n",
    "melted_data.rename(columns={'StatisticsProfileDate':'Date','ConfirmedCovidCases':'ConfirmedCases','HospitalisedCovidCases':'HospitalisedCases',\n",
    "                            'RequiringICUCovidCases':'CasesRequiedICU','HealthcareWorkersCovidCases':'HealthWorkerCases','DeathsToday_DOD':'DeathsToday', \n",
    "                            'gender':'Gender','no_infected_gender':'NumberByGender','no_hospitalised':'NumberHospitalised',\n",
    "                            'Infected':'AgeRange','no_infected':'NumberInfected'}, inplace=True)\n",
    "melted_data = melted_data.dropna()\n",
    "\n",
    "melted_data"
   ]
  },
  {
   "cell_type": "markdown",
   "metadata": {},
   "source": [
    "Clean data (Date and AgeRage columns) "
   ]
  },
  {
   "cell_type": "code",
   "execution_count": null,
   "metadata": {},
   "outputs": [],
   "source": [
    "melted_data[\"AgeRange\"] = melted_data[\"AgeRange\"].str.replace('to', ' - ')\n",
    "melted_data[\"AgeRange\"] = melted_data[\"AgeRange\"].str.replace('Aged', 'Age ')\n",
    "melted_data[\"AgeRange\"] = melted_data[\"AgeRange\"].str.replace('up', ' +')\n",
    "\n",
    "\n",
    "\n",
    "melted_data['ConfirmedCases'] = pd.to_numeric(melted_data['ConfirmedCases'])\n",
    "melted_data['HospitalisedCases'] = pd.to_numeric(melted_data['HospitalisedCases'])\n",
    "melted_data['CasesRequiedICU'] = pd.to_numeric(melted_data['CasesRequiedICU'])\n",
    "melted_data['HealthWorkerCases'] = pd.to_numeric(melted_data['HealthWorkerCases'])\n",
    "melted_data['DeathsToday'] = pd.to_numeric(melted_data['DeathsToday'])\n",
    "melted_data['NumberByGender'] = pd.to_numeric(melted_data['NumberByGender'])\n",
    "melted_data['NumberHospitalised'] = pd.to_numeric(melted_data['NumberHospitalised'])\n",
    "melted_data['NumberInfected'] = pd.to_numeric(melted_data['NumberInfected'])\n",
    "\n"
   ]
  },
  {
   "cell_type": "markdown",
   "metadata": {},
   "source": [
    "Arranging and Sort the the column is a structure order to read the data convenietly. "
   ]
  },
  {
   "cell_type": "code",
   "execution_count": null,
   "metadata": {},
   "outputs": [],
   "source": [
    "melted_data = melted_data[['Date', 'ConfirmedCases', 'HospitalisedCases', 'CasesRequiedICU', 'HealthWorkerCases',\n",
    "                           'DeathsToday','NumberInfected', 'AgeRange', 'Gender', 'NumberHospitalised', 'NumberByGender']]\n",
    "\n",
    "melted_data=melted_data.reset_index(drop=True)\n",
    "\n",
    "melted_data = melted_data.sort_values(ascending=True,by=[\"Date\"])\n",
    "melted_data\n",
    "\n",
    "melted_data"
   ]
  },
  {
   "cell_type": "code",
   "execution_count": null,
   "metadata": {},
   "outputs": [],
   "source": [
    "tidy_data = melted_data.copy()"
   ]
  },
  {
   "cell_type": "markdown",
   "metadata": {},
   "source": [
    "Saving Tidy data to CSV file."
   ]
  },
  {
   "cell_type": "code",
   "execution_count": null,
   "metadata": {},
   "outputs": [],
   "source": [
    "tidy_data.to_csv(\"Tidy_Covid_Data.csv\")"
   ]
  }
 ],
 "metadata": {
  "kernelspec": {
   "display_name": "Python 3.10.8 64-bit",
   "language": "python",
   "name": "python3"
  },
  "language_info": {
   "codemirror_mode": {
    "name": "ipython",
    "version": 3
   },
   "file_extension": ".py",
   "mimetype": "text/x-python",
   "name": "python",
   "nbconvert_exporter": "python",
   "pygments_lexer": "ipython3",
   "version": "3.10.8"
  },
  "orig_nbformat": 4,
  "vscode": {
   "interpreter": {
    "hash": "5aca27a8b22f23d6e7bd1accaa99cbf11b796e16520f4a040e73077e93c9e259"
   }
  }
 },
 "nbformat": 4,
 "nbformat_minor": 2
}
